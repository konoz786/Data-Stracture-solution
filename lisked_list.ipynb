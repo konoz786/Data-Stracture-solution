{
  "nbformat": 4,
  "nbformat_minor": 0,
  "metadata": {
    "colab": {
      "provenance": []
    },
    "kernelspec": {
      "name": "python3",
      "display_name": "Python 3"
    },
    "language_info": {
      "name": "python"
    }
  },
  "cells": [
    {
      "cell_type": "code",
      "source": [
        "class ListNode:\n",
        "    def __init__(self, val=0, next=None):\n",
        "        self.val = val\n",
        "        self.next = next\n",
        "\n",
        "def addTwoNumbers(l1: ListNode, l2: ListNode) -> ListNode:\n",
        "    # Dummy node to start the result linked list\n",
        "    dummy_head = ListNode(0)\n",
        "    current = dummy_head\n",
        "    carry = 0\n",
        "\n",
        "    # Traverse through both linked lists\n",
        "    while l1 is not None or l2 is not None or carry:\n",
        "        # Get the current values, if the node is null, use 0\n",
        "        val1 = l1.val if l1 else 0\n",
        "        val2 = l2.val if l2 else 0\n",
        "\n",
        "        # Calculate the sum of current digits and carry\n",
        "        total = val1 + val2 + carry\n",
        "\n",
        "        # Update carry for the next iteration\n",
        "        carry = total // 10\n",
        "\n",
        "        # Create a new node with the digit (total % 10) and move the pointer\n",
        "        current.next = ListNode(total % 10)\n",
        "        current = current.next\n",
        "\n",
        "        # Move to the next nodes in the lists\n",
        "        if l1: l1 = l1.next\n",
        "        if l2: l2 = l2.next\n",
        "\n",
        "    # Return the next of dummy_head as the actual result linked list\n",
        "    return dummy_head.next\n",
        "\n",
        "# Helper function to create a linked list from a list of numbers\n",
        "def create_linked_list(numbers):\n",
        "    dummy_head = ListNode()\n",
        "    current = dummy_head\n",
        "    for num in numbers:\n",
        "        current.next = ListNode(num)\n",
        "        current = current.next\n",
        "    return dummy_head.next\n",
        "\n",
        "# Helper function to print linked list\n",
        "def print_linked_list(node):\n",
        "    result = []\n",
        "    while node:\n",
        "        result.append(str(node.val))\n",
        "        node = node.next\n",
        "    print(\" -> \".join(result))\n",
        "\n",
        "# Example input\n",
        "l1_numbers = [2, 4, 3]  # Represents the number 342\n",
        "l2_numbers = [5, 6, 4]  # Represents the number 465\n",
        "\n",
        "# Create linked lists from the numbers\n",
        "l1 = create_linked_list(l1_numbers)\n",
        "l2 = create_linked_list(l2_numbers)\n",
        "\n",
        "# Add the two numbers\n",
        "result = addTwoNumbers(l1, l2)\n",
        "\n",
        "# Print the result linked list\n",
        "print(\"Result Linked List:\")\n",
        "print_linked_list(result)\n"
      ],
      "metadata": {
        "colab": {
          "base_uri": "https://localhost:8080/"
        },
        "id": "cHIR6EGBRlC-",
        "outputId": "7e4d764c-02ef-43c6-eb66-60fa6ebd4e86"
      },
      "execution_count": null,
      "outputs": [
        {
          "output_type": "stream",
          "name": "stdout",
          "text": [
            "Result Linked List:\n",
            "7 -> 0 -> 8\n"
          ]
        }
      ]
    },
    {
      "cell_type": "code",
      "source": [
        "class solution:\n",
        "  def maxArea(self, height: list[int]) -> int:\n",
        "    res=0\n",
        "    l,r=0,len(height)-1\n",
        "\n",
        "    while l<r:\n",
        "      area=(r-1)*min(height[l],height[r])\n",
        "      res=max(res,area)\n",
        "\n",
        "      if height[l]<height[r]:\n",
        "        l+=1\n",
        "      else:\n",
        "        r-=1\n",
        "    return res"
      ],
      "metadata": {
        "id": "sFwW-1_8yhno"
      },
      "execution_count": null,
      "outputs": []
    }
  ]
}