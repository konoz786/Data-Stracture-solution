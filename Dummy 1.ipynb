{
 "cells": [
  {
   "cell_type": "code",
   "execution_count": null,
   "id": "d9710add-5314-43cd-9e18-65625cdada51",
   "metadata": {},
   "outputs": [],
   "source": [
    "import numpy as np\n",
    "import matplotlib.pyplot as plt\n",
    "\n",
    "def f(x):\n",
    "    return 0.5 + 20 * x - 300 * x**2 + 650 * x**3 - 900 * x**4 + 500 * x**5\n",
    "\n",
    "def simpsons_rule(f, a, b, n):\n",
    "\n",
    "    h = (b - a) / n\n",
    "    x = np.linspace(a, b, n+1)\n",
    "    y = f(x)\n",
    "\n",
    "    integral = h/3 * (y[0] + 4*np.sum(y[1:n:2]) + 2*np.sum(y[2:n-1:2]) + y[n])\n",
    "\n",
    "    return integral\n",
    "\n",
    "# Interval [0, 0.7]\n",
    "a = 0\n",
    "b = 0.7\n",
    "\n",
    "# Number of subintervals (must be even for Simpson's 1/3 rule)\n",
    "n = 4\n",
    "\n",
    "# Approximate the integral using Simpson's 1/3 rule\n",
    "result = simpsons_rule(f, a, b, n)\n",
    "\n",
    "print(\"Approximate integral using Simpson's 1/3 rule:\", result)\n",
    "x_scalar = 0.4\n",
    "result_scalar = f(x_scalar)\n",
    "print(\"f({}) = {}\".format(x_scalar, result_scalar))\n",
    "\n",
    "x_vector = np.array([0, 0.5, 0.7])\n",
    "result_vector = f(x_vector)\n",
    "print(\"f({}) = {}\".format(x_vector, result_vector))"
   ]
  }
 ],
 "metadata": {
  "kernelspec": {
   "display_name": "Python [conda env:base] *",
   "language": "python",
   "name": "conda-base-py"
  },
  "language_info": {
   "codemirror_mode": {
    "name": "ipython",
    "version": 3
   },
   "file_extension": ".py",
   "mimetype": "text/x-python",
   "name": "python",
   "nbconvert_exporter": "python",
   "pygments_lexer": "ipython3",
   "version": "3.12.7"
  }
 },
 "nbformat": 4,
 "nbformat_minor": 5
}
