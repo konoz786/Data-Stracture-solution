{
  "nbformat": 4,
  "nbformat_minor": 0,
  "metadata": {
    "colab": {
      "provenance": []
    },
    "kernelspec": {
      "name": "python3",
      "display_name": "Python 3"
    },
    "language_info": {
      "name": "python"
    }
  },
  "cells": [
    {
      "cell_type": "code",
      "source": [
        "stock_prices = []\n",
        "with open(\"stock_prices.csv\",\"r\") as f:\n",
        "    for line in f:\n",
        "        tokens = line.split(',')\n",
        "        day = tokens[0]\n",
        "        price = float(tokens[1])\n",
        "        stock_prices.append([day,price])"
      ],
      "metadata": {
        "id": "KhqPEqzK3SFO"
      },
      "execution_count": null,
      "outputs": []
    },
    {
      "cell_type": "code",
      "source": [
        "stock_prices"
      ],
      "metadata": {
        "colab": {
          "base_uri": "https://localhost:8080/"
        },
        "id": "RiCGxZHF6vxm",
        "outputId": "cd480acf-8375-4cb2-9f73-079d7cbef0c8"
      },
      "execution_count": null,
      "outputs": [
        {
          "output_type": "execute_result",
          "data": {
            "text/plain": [
              "[['march 6', 310.0],\n",
              " ['march 7', 340.0],\n",
              " ['march 8', 380.0],\n",
              " ['march 9', 302.0],\n",
              " ['march 10', 297.0],\n",
              " ['march 11', 323.0]]"
            ]
          },
          "metadata": {},
          "execution_count": 12
        }
      ]
    },
    {
      "cell_type": "code",
      "source": [
        "for element in stock_prices:\n",
        "  if element[0]=='march 9':\n",
        "    print(element[1])"
      ],
      "metadata": {
        "colab": {
          "base_uri": "https://localhost:8080/"
        },
        "id": "fk0sqlsNAK4g",
        "outputId": "e916120e-fdd4-4057-8247-364d3a4430a7"
      },
      "execution_count": null,
      "outputs": [
        {
          "output_type": "stream",
          "name": "stdout",
          "text": [
            "302.0\n"
          ]
        }
      ]
    },
    {
      "cell_type": "code",
      "source": [
        "stock_prices[0]"
      ],
      "metadata": {
        "colab": {
          "base_uri": "https://localhost:8080/"
        },
        "id": "D1YNCB79C4uw",
        "outputId": "a9ae1c2e-1294-4849-d249-7d05cbbd8007"
      },
      "execution_count": null,
      "outputs": [
        {
          "output_type": "execute_result",
          "data": {
            "text/plain": [
              "['march 6', 310.0]"
            ]
          },
          "metadata": {},
          "execution_count": 20
        }
      ]
    },
    {
      "cell_type": "code",
      "source": [
        "stock_prices = []\n",
        "with open(\"stock_prices.csv\",\"r\") as f:\n",
        "    for line in f:\n",
        "        tokens = line.split(',')\n",
        "        day = tokens[0]\n",
        "        price = float(tokens[1])\n",
        "        stock_prices.append([day,price])"
      ],
      "metadata": {
        "id": "5EcbtuH2Exiw"
      },
      "execution_count": null,
      "outputs": []
    },
    {
      "cell_type": "code",
      "source": [
        "stock_prices"
      ],
      "metadata": {
        "colab": {
          "base_uri": "https://localhost:8080/"
        },
        "id": "mOXLNC6hE3-p",
        "outputId": "56c52a3c-6269-435e-9d5b-afefa79992b3"
      },
      "execution_count": null,
      "outputs": [
        {
          "output_type": "execute_result",
          "data": {
            "text/plain": [
              "[['march 6', 310.0],\n",
              " ['march 7', 340.0],\n",
              " ['march 8', 380.0],\n",
              " ['march 9', 302.0],\n",
              " ['march 10', 297.0],\n",
              " ['march 11', 323.0]]"
            ]
          },
          "metadata": {},
          "execution_count": 25
        }
      ]
    },
    {
      "cell_type": "code",
      "source": [
        "stock_prices=['march 7']"
      ],
      "metadata": {
        "id": "8-7e_MllE5XI"
      },
      "execution_count": null,
      "outputs": []
    },
    {
      "cell_type": "code",
      "source": [
        "def get_hash(key):\n",
        "  h=0\n",
        "  for char in key:\n",
        "    h=h+ord(char)\n",
        "    return h%100"
      ],
      "metadata": {
        "id": "mHKtOpCwFH2Q"
      },
      "execution_count": null,
      "outputs": []
    },
    {
      "cell_type": "code",
      "source": [
        "ord('a')"
      ],
      "metadata": {
        "colab": {
          "base_uri": "https://localhost:8080/"
        },
        "id": "xIb6Y0HNIpqZ",
        "outputId": "ba0c7b8c-beb5-4222-8008-16dfc8373a2f"
      },
      "execution_count": null,
      "outputs": [
        {
          "output_type": "execute_result",
          "data": {
            "text/plain": [
              "97"
            ]
          },
          "metadata": {},
          "execution_count": 29
        }
      ]
    },
    {
      "cell_type": "code",
      "source": [
        "get_hash('march 28')"
      ],
      "metadata": {
        "colab": {
          "base_uri": "https://localhost:8080/"
        },
        "id": "rr0bB-RlIv7Y",
        "outputId": "81a2f461-0bed-47f4-e0bd-9f76f4024bdc"
      },
      "execution_count": null,
      "outputs": [
        {
          "output_type": "execute_result",
          "data": {
            "text/plain": [
              "9"
            ]
          },
          "metadata": {},
          "execution_count": 30
        }
      ]
    },
    {
      "cell_type": "code",
      "source": [
        "class HashTable:\n",
        "    def __init__(self):\n",
        "        self.MAX = 100\n",
        "        self.arr = [None for i in range(self.MAX)]  # Initialize an array with None values\n",
        "\n",
        "    def get_hash(self, key):\n",
        "        h = 0\n",
        "        for char in key:\n",
        "            h += ord(char)  # Sum the ASCII values of the characters in the key\n",
        "        return h % self.MAX  # Return the hash value modulo MAX\n",
        "def get(self, key):\n",
        "        h = self.get_hash(key)\n",
        "        return self.arr[h]"
      ],
      "metadata": {
        "id": "LKXCg1bDJEF5"
      },
      "execution_count": null,
      "outputs": []
    },
    {
      "cell_type": "code",
      "source": [],
      "metadata": {
        "id": "hA6US16URRsO"
      },
      "execution_count": null,
      "outputs": []
    }
  ]
}