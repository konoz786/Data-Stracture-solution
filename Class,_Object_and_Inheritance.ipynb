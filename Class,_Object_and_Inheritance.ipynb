{
  "nbformat": 4,
  "nbformat_minor": 0,
  "metadata": {
    "colab": {
      "provenance": [],
      "toc_visible": true
    },
    "kernelspec": {
      "name": "python3",
      "display_name": "Python 3"
    },
    "language_info": {
      "name": "python"
    }
  },
  "cells": [
    {
      "cell_type": "code",
      "execution_count": 2,
      "metadata": {
        "id": "_9iuHB3dubhg",
        "colab": {
          "base_uri": "https://localhost:8080/"
        },
        "outputId": "91676192-1a25-4864-ceac-c630f5d02655"
      },
      "outputs": [
        {
          "output_type": "stream",
          "name": "stdout",
          "text": [
            "Tauhid\n"
          ]
        }
      ],
      "source": [
        "hash_table ={}\n",
        "hash_table [\"name\"]=\"Tauhid\"\n",
        "print (hash_table[\"name\"])"
      ]
    },
    {
      "cell_type": "code",
      "source": [
        "class Human:\n",
        "  def __init__(self,n,o):\n",
        "    self.name=n\n",
        "    self.occupation=o\n",
        "\n",
        "  def do_work(self):\n",
        "   if self.occupation ==\"tennis player\":\n",
        "      print (self.name,\" playing tennis\")\n",
        "   elif self.occupation ==\"actor\":\n",
        "      print (self.name ,\"do acting\")\n",
        "  def speaks(self):\n",
        "    print (self.name,\"how are you?Today\")\n",
        "\n",
        "tom = Human(\"Tom cruise\",\"actor\")\n",
        "tom.do_work()\n",
        "tom.speaks()\n",
        "\n",
        "\n",
        "sabrina =Human (\"Sabrina\",\"tennis player\")\n",
        "sabrina.do_work()\n",
        "sabrina.speaks()\n",
        "\n"
      ],
      "metadata": {
        "colab": {
          "base_uri": "https://localhost:8080/"
        },
        "id": "aTfxkr-Q9rhx",
        "outputId": "a266fae5-245a-405a-ab13-039022e47b29"
      },
      "execution_count": 11,
      "outputs": [
        {
          "output_type": "stream",
          "name": "stdout",
          "text": [
            "Tom cruise do acting\n",
            "Tom cruise how are you?Today\n",
            "Sabrina  playing tennis\n",
            "Sabrina how are you?Today\n"
          ]
        }
      ]
    },
    {
      "cell_type": "markdown",
      "source": [
        "Inheritance"
      ],
      "metadata": {
        "id": "OFj2O2K6SMgT"
      }
    },
    {
      "cell_type": "code",
      "source": [
        "class vehicle:\n",
        "  def general_usage(self):\n",
        "    print(\"general use:Transport\")\n",
        "class Car(vehicle):\n",
        "  def __init__(self):\n",
        "    print(\"I am car\")\n",
        "    self.wheels = 4\n",
        "    self.has_roof =True\n",
        "\n",
        "  def specific_usage(self):\n",
        "    print(\"Specific use:Family Trip ,Office Communication\")\n",
        "class Motorbike(vehicle):\n",
        "  def __init__(self):\n",
        "    print(\"I am bike\")\n",
        "    self.wheels = 2\n",
        "    self.has_roof =False\n",
        "\n",
        "  def specific_usage(self):\n",
        "    print(\"Specific use: Riding ,Racing\")\n",
        "\n",
        "c = Car()\n",
        "c.general_usage()\n",
        "c.specific_usage()\n",
        "\n",
        "m = Motorbike()\n",
        "m.general_usage()\n",
        "m.specific_usage()\n",
        "\n",
        "print(issubclass(Car,vehicle))\n",
        "print(issubclass(Motorbike,vehicle))\n"
      ],
      "metadata": {
        "colab": {
          "base_uri": "https://localhost:8080/"
        },
        "id": "efyH_9sCSIIS",
        "outputId": "c4dbc801-54b1-44b9-87ba-5235adc82cd9"
      },
      "execution_count": 19,
      "outputs": [
        {
          "output_type": "stream",
          "name": "stdout",
          "text": [
            "I am car\n",
            "general use:Transport\n",
            "Specific use:Family Trip ,Office Communication\n",
            "I am bike\n",
            "general use:Transport\n",
            "Specific use: Riding ,Racing\n",
            "True\n",
            "True\n"
          ]
        }
      ]
    },
    {
      "cell_type": "code",
      "source": [
        "class Father:\n",
        "  def skills(self,gardening,programing):\n",
        "    self.gardening=gardening\n",
        "    self.programing=programing\n",
        "    print(\"enjoy\")\n",
        "class Mother:\n",
        "  def skills(self,Art,programing):\n",
        "    print(\"enjoy\")\n",
        "\n",
        "class Child(Father,Mother):\n",
        "  def skills(self,sports):\n",
        "   print(\"enjoy\")\n",
        "\n",
        "c=Child()\n",
        "c.skills(\"programing\")\n",
        "c.skills(\"gardening\")\n",
        "c.skills(\"Art\")\n",
        "c.skills(\"sports\")\n",
        ""
      ],
      "metadata": {
        "colab": {
          "base_uri": "https://localhost:8080/"
        },
        "id": "XVv2uhQxVf87",
        "outputId": "a2206c39-6d90-4459-8db0-03cb50f66662"
      },
      "execution_count": 24,
      "outputs": [
        {
          "output_type": "stream",
          "name": "stdout",
          "text": [
            "enjoy\n",
            "enjoy\n",
            "enjoy\n",
            "enjoy\n"
          ]
        }
      ]
    }
  ]
}