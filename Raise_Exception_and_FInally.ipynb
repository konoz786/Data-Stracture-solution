{
  "nbformat": 4,
  "nbformat_minor": 0,
  "metadata": {
    "colab": {
      "provenance": []
    },
    "kernelspec": {
      "name": "python3",
      "display_name": "Python 3"
    },
    "language_info": {
      "name": "python"
    }
  },
  "cells": [
    {
      "cell_type": "code",
      "execution_count": 11,
      "metadata": {
        "colab": {
          "base_uri": "https://localhost:8080/"
        },
        "id": "QTXPuJGM3TQ-",
        "outputId": "3bf8caba-a767-4afc-9ae7-c2d5f971db2d"
      },
      "outputs": [
        {
          "output_type": "stream",
          "name": "stdout",
          "text": [
            "User defined exception: memory error\n"
          ]
        }
      ],
      "source": [
        "class Accident(Exception):\n",
        "    def __init__(self, msg):\n",
        "        self.msg = msg\n",
        "    def handle (self):\n",
        "        print (\"accident occcured.take detour\")\n",
        "    def print_exception(self):\n",
        "        print(\"User defined exception:\", self.msg)\n",
        "\n",
        "try:\n",
        "    raise Accident('memory error')\n",
        "except Accident as e:\n",
        "    e.print_exception()\n"
      ]
    },
    {
      "cell_type": "code",
      "source": [
        "class RemoteControl:\n",
        "    def __init__(self):\n",
        "        self.channels = [\"HBO\", \"cnn\", \"abc\", \"espn\"]\n",
        "        self.index = -1\n",
        "\n",
        "    def __iter__(self):\n",
        "        self.index = -1  # Reset the index each time iteration begins\n",
        "        return self\n",
        "\n",
        "    def __next__(self):\n",
        "        self.index =self.index + 1\n",
        "        if self.index == len(self.channels):\n",
        "            raise StopIteration\n",
        "        return self.channels[self.index]\n",
        "\n",
        "# Create an instance of RemoteControl\n",
        "r = RemoteControl()\n",
        "\n",
        "# Get an iterator\n",
        "itr = iter(r)\n",
        "\n",
        "# Print the channels using next\n",
        "print(next(itr))  # HBO\n",
        "print(next(itr))  # cnn\n",
        "print(next(itr))  # abc\n",
        "print(next(itr))  # espn\n",
        "\n",
        "# Uncommenting the next line would raise a StopIteration error\n",
        "# print(next(itr))\n"
      ],
      "metadata": {
        "colab": {
          "base_uri": "https://localhost:8080/"
        },
        "id": "ZV24rNFnqs67",
        "outputId": "cb9e4e63-a13b-44ca-f39c-3c276fb0299c"
      },
      "execution_count": 17,
      "outputs": [
        {
          "output_type": "stream",
          "name": "stdout",
          "text": [
            "HBO\n",
            "cnn\n",
            "abc\n",
            "espn\n"
          ]
        }
      ]
    }
  ]
}