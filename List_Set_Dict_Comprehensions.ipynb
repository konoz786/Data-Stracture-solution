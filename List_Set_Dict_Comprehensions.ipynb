{
  "nbformat": 4,
  "nbformat_minor": 0,
  "metadata": {
    "colab": {
      "provenance": []
    },
    "kernelspec": {
      "name": "python3",
      "display_name": "Python 3"
    },
    "language_info": {
      "name": "python"
    }
  },
  "cells": [
    {
      "cell_type": "code",
      "source": [
        "integer = [0, 1, 2, 3, 4]\n",
        "binary = [\"0\", \"1\", \"10\", \"11\", \"100\"]\n",
        "\n",
        "z=zip (integer,binary)\n",
        "binary_dict={integer:binary for integer, binary in z}\n",
        "print(binary_dict)\n",
        "\n",
        "integer =[1, -1, 2, 3, 5, 0, -7]\n",
        "additive_inverse = [-1*i for i in integer]\n",
        "print(additive_inverse)\n",
        "\n",
        "integer = [1, -1, 2, -2, 3, -3]\n",
        "sq_set = {i*i for i in integer}\n",
        "print(sq_set)"
      ],
      "metadata": {
        "colab": {
          "base_uri": "https://localhost:8080/"
        },
        "id": "bx0ZXhHHyUc-",
        "outputId": "b36faca1-c82b-4ea6-99f5-66cee5f2d4cc"
      },
      "execution_count": null,
      "outputs": [
        {
          "output_type": "stream",
          "name": "stdout",
          "text": [
            "{0: '0', 1: '1', 2: '10', 3: '11', 4: '100'}\n",
            "[-1, 1, -2, -3, -5, 0, 7]\n",
            "{1, 4, 9}\n"
          ]
        }
      ]
    }
  ]
}