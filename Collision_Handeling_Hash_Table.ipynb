{
  "nbformat": 4,
  "nbformat_minor": 0,
  "metadata": {
    "colab": {
      "provenance": [],
      "toc_visible": true
    },
    "kernelspec": {
      "name": "python3",
      "display_name": "Python 3"
    },
    "language_info": {
      "name": "python"
    }
  },
  "cells": [
    {
      "cell_type": "code",
      "execution_count": null,
      "metadata": {
        "id": "M8OUGGOkjgUS"
      },
      "outputs": [],
      "source": [
        "class HashTable:\n",
        "  def __init__(self):\n",
        "    self.MAX = 10\n",
        "    self.arr = [None for i in range (self.MAX)]\n",
        "  def get_hash(self,key):\n",
        "    hash = 0\n",
        "    for char in key:\n",
        "        hash=hash+ord(char)\n",
        "    return hash % self.MAX\n",
        "  def __getitem__(self,key):\n",
        "    h = self.get_Hash(index)\n",
        "    return self.arr[h]\n",
        "  def __setitem__(self,key,val):\n",
        "    h= self.get_hash(key)\n",
        "    self.arr[h] = val\n",
        "\n",
        "\n"
      ]
    },
    {
      "cell_type": "code",
      "source": [
        "t = HashTable()\n",
        "t.get_hash(\"march 6\")\n",
        "t.get_hash(\"march 8\")"
      ],
      "metadata": {
        "colab": {
          "base_uri": "https://localhost:8080/"
        },
        "id": "WZD9HINec6wH",
        "outputId": "a8c63eb1-f7f0-4d53-a285-f1b732b375dc"
      },
      "execution_count": null,
      "outputs": [
        {
          "output_type": "execute_result",
          "data": {
            "text/plain": [
              "1"
            ]
          },
          "metadata": {},
          "execution_count": 14
        }
      ]
    },
    {
      "cell_type": "code",
      "source": [
        "t.get_hash(\"march 17\")"
      ],
      "metadata": {
        "colab": {
          "base_uri": "https://localhost:8080/"
        },
        "id": "uNVgCNcJdIYj",
        "outputId": "b4290b04-850f-4665-9e83-e79da1dab6cd"
      },
      "execution_count": null,
      "outputs": [
        {
          "output_type": "execute_result",
          "data": {
            "text/plain": [
              "9"
            ]
          },
          "metadata": {},
          "execution_count": 8
        }
      ]
    },
    {
      "cell_type": "markdown",
      "source": [
        "Hash Table Collision Handleing Using Chaining"
      ],
      "metadata": {
        "id": "HvNtXlJ1dncz"
      }
    },
    {
      "cell_type": "code",
      "source": [
        "class HashTable:\n",
        "    def __init__(self):\n",
        "        self.MAX = 10\n",
        "        self.arr = [[] for i in range(self.MAX)]\n",
        "\n",
        "    def get_hash(self, key):\n",
        "        hash = 0\n",
        "        for char in key:\n",
        "            hash += ord(char)\n",
        "        return hash % self.MAX\n",
        "\n",
        "    def __getitem__(self, key):\n",
        "        arr_index = self.get_hash(key)\n",
        "        for kv in self.arr[arr_index]:\n",
        "            if kv[0] == key:\n",
        "                return kv[1]\n",
        "\n",
        "    def __setitem__(self, key, val):\n",
        "        h = self.get_hash(key)\n",
        "        found = False\n",
        "        for idx, element in enumerate(self.arr[h]):\n",
        "            if len(element)==2 and element[0] == key:\n",
        "                self.arr[h][idx] = (key,val)\n",
        "                found = True\n",
        "        if not found:\n",
        "            self.arr[h].append((key,val))\n",
        "\n",
        "    def __delitem__(self, key):\n",
        "        arr_index = self.get_hash(key)\n",
        "        for index, kv in enumerate(self.arr[arr_index]):\n",
        "            if kv[0] == key:\n",
        "                print(\"del\",index)\n",
        "                del self.arr[arr_index][index]"
      ],
      "metadata": {
        "id": "X0fB-Xzjdv0D"
      },
      "execution_count": 2,
      "outputs": []
    },
    {
      "cell_type": "code",
      "source": [
        "t = HashTable()\n",
        "t[\"march 6\"] = 310\n",
        "t[\"march 7\"] = 420\n",
        "t[\"march 8\"] = 67\n",
        "t[\"march 17\"] = 63457"
      ],
      "metadata": {
        "id": "jJ2ACdXElzsv"
      },
      "execution_count": 3,
      "outputs": []
    },
    {
      "cell_type": "code",
      "source": [
        "t[\"march 6\"]"
      ],
      "metadata": {
        "colab": {
          "base_uri": "https://localhost:8080/"
        },
        "id": "YKX1P4zDmC9_",
        "outputId": "cb9743a8-4d2a-445f-9fa2-47cb6419db3f"
      },
      "execution_count": 4,
      "outputs": [
        {
          "output_type": "execute_result",
          "data": {
            "text/plain": [
              "310"
            ]
          },
          "metadata": {},
          "execution_count": 4
        }
      ]
    },
    {
      "cell_type": "code",
      "source": [
        "t[\"march 17\"]"
      ],
      "metadata": {
        "colab": {
          "base_uri": "https://localhost:8080/"
        },
        "id": "SUv_zL3umF3w",
        "outputId": "4570421e-67d2-4954-8a7e-b6a8ce6b73fe"
      },
      "execution_count": 5,
      "outputs": [
        {
          "output_type": "execute_result",
          "data": {
            "text/plain": [
              "63457"
            ]
          },
          "metadata": {},
          "execution_count": 5
        }
      ]
    },
    {
      "cell_type": "code",
      "source": [
        "t.arr\n"
      ],
      "metadata": {
        "colab": {
          "base_uri": "https://localhost:8080/"
        },
        "id": "hhkGgZTvm6ev",
        "outputId": "96a7044f-fcbd-4319-fbb2-46366722b2e3"
      },
      "execution_count": 6,
      "outputs": [
        {
          "output_type": "execute_result",
          "data": {
            "text/plain": [
              "[[('march 7', 420)],\n",
              " [('march 8', 67)],\n",
              " [],\n",
              " [],\n",
              " [],\n",
              " [],\n",
              " [],\n",
              " [],\n",
              " [],\n",
              " [('march 6', 310), ('march 17', 63457)]]"
            ]
          },
          "metadata": {},
          "execution_count": 6
        }
      ]
    },
    {
      "cell_type": "code",
      "source": [
        "t[\"march 6\"] = 11"
      ],
      "metadata": {
        "id": "ZCCzPGgvm-tH"
      },
      "execution_count": 7,
      "outputs": []
    },
    {
      "cell_type": "code",
      "source": [
        "t.arr"
      ],
      "metadata": {
        "colab": {
          "base_uri": "https://localhost:8080/"
        },
        "id": "z-7hxZ6VnCLg",
        "outputId": "a66c4eff-1e2f-4195-d164-01e0834c4912"
      },
      "execution_count": 8,
      "outputs": [
        {
          "output_type": "execute_result",
          "data": {
            "text/plain": [
              "[[('march 7', 420)],\n",
              " [('march 8', 67)],\n",
              " [],\n",
              " [],\n",
              " [],\n",
              " [],\n",
              " [],\n",
              " [],\n",
              " [],\n",
              " [('march 6', 11), ('march 17', 63457)]]"
            ]
          },
          "metadata": {},
          "execution_count": 8
        }
      ]
    },
    {
      "cell_type": "code",
      "source": [
        "t[\"march 6\"]"
      ],
      "metadata": {
        "colab": {
          "base_uri": "https://localhost:8080/"
        },
        "id": "jwiHMePwnFOg",
        "outputId": "d1b22d83-a0be-4e52-b81c-2092bae8eece"
      },
      "execution_count": 9,
      "outputs": [
        {
          "output_type": "execute_result",
          "data": {
            "text/plain": [
              "11"
            ]
          },
          "metadata": {},
          "execution_count": 9
        }
      ]
    },
    {
      "cell_type": "code",
      "source": [
        "del t[\"march 6\"]"
      ],
      "metadata": {
        "colab": {
          "base_uri": "https://localhost:8080/"
        },
        "id": "ccwC5VS9nLig",
        "outputId": "e9aebd69-1838-467a-c623-96c164bcf118"
      },
      "execution_count": 10,
      "outputs": [
        {
          "output_type": "stream",
          "name": "stdout",
          "text": [
            "del 0\n"
          ]
        }
      ]
    }
  ]
}