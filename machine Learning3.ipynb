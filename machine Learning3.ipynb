{
 "cells": [
  {
   "cell_type": "code",
   "execution_count": 1,
   "id": "cb7acbe2-79fe-4688-9285-831d1e6e87af",
   "metadata": {},
   "outputs": [],
   "source": [
    "import numpy as np"
   ]
  },
  {
   "cell_type": "code",
   "execution_count": 5,
   "id": "d5457022-f7c6-4606-8ffa-a5f62979e9be",
   "metadata": {},
   "outputs": [
    {
     "data": {
      "text/plain": [
       "array([[ 0,  1,  2,  3,  4],\n",
       "       [ 5,  6,  7,  8,  9],\n",
       "       [10, 11, 12, 13, 14]])"
      ]
     },
     "execution_count": 5,
     "metadata": {},
     "output_type": "execute_result"
    }
   ],
   "source": [
    "a=np.arange(15).reshape(3,5)\n",
    "a"
   ]
  },
  {
   "cell_type": "code",
   "execution_count": 17,
   "id": "d3158674-2126-4423-beee-3a3762a0b021",
   "metadata": {},
   "outputs": [
    {
     "name": "stdout",
     "output_type": "stream",
     "text": [
      "Random Matrix:\n",
      "[[0.4359949  0.02592623 0.54966248 0.43532239 0.4203678 ]\n",
      " [0.33033482 0.20464863 0.61927097 0.29965467 0.26682728]\n",
      " [0.62113383 0.52914209 0.13457995 0.51357812 0.18443987]\n",
      " [0.78533515 0.85397529 0.49423684 0.84656149 0.07964548]\n",
      " [0.50524609 0.0652865  0.42812233 0.09653092 0.12715997]\n",
      " [0.59674531 0.226012   0.10694568 0.22030621 0.34982629]\n",
      " [0.46778748 0.20174323 0.64040673 0.48306984 0.50523672]\n",
      " [0.38689265 0.79363745 0.58000418 0.1622986  0.70075235]\n",
      " [0.96455108 0.50000836 0.88952006 0.34161365 0.56714413]]\n"
     ]
    }
   ],
   "source": [
    "import numpy as np\n",
    "np.random.seed(2)\n",
    "matrix= np.random.rand(9,5)\n",
    "print(\"Random Matrix:\")\n",
    "print (matrix)"
   ]
  },
  {
   "cell_type": "code",
   "execution_count": 63,
   "id": "accef485-6631-439d-b2f6-c42a9cd1f705",
   "metadata": {},
   "outputs": [
    {
     "name": "stdout",
     "output_type": "stream",
     "text": [
      "[[ 0  1  2  3  4]\n",
      " [ 5  6  7  8  9]\n",
      " [10 11 12 13 14]\n",
      " [15 16 17 18 19]\n",
      " [20 21 22 23 24]\n",
      " [25 26 27 28 29]\n",
      " [30 31 32 33 34]\n",
      " [35 36 37 38 39]\n",
      " [40 41 42 43 44]]\n"
     ]
    }
   ],
   "source": [
    "import numpy as np\n",
    "\n",
    "matrix=np.arange(45).reshape(9,5)\n",
    "print (matrix)"
   ]
  },
  {
   "cell_type": "code",
   "execution_count": 74,
   "id": "13cd62ee-7e90-458c-821d-9ffb94838cbc",
   "metadata": {},
   "outputs": [
    {
     "name": "stdout",
     "output_type": "stream",
     "text": [
      "[[0 1 2]\n",
      " [3 4 5]\n",
      " [6 7 8]]\n",
      "12\n",
      "5.0\n"
     ]
    }
   ],
   "source": [
    "import numpy as np\n",
    "matrix = np.arange(9).reshape(3,3)\n",
    "col_sum =np.sum(matrix[:,1])\n",
    "col_mean =np.mean(matrix[:,2])\n",
    "print (matrix)\n",
    "print(col_sum)\n",
    "print(col_mean)"
   ]
  },
  {
   "cell_type": "code",
   "execution_count": 8,
   "id": "0f820b48-4352-4ed8-934f-ed90d1549b33",
   "metadata": {},
   "outputs": [
    {
     "name": "stdout",
     "output_type": "stream",
     "text": [
      "[[ 0  1  2  3]\n",
      " [ 4  5  6  7]\n",
      " [ 8  9 10 11]]\n",
      "Mean of the 2nd column: 0.9375\n"
     ]
    }
   ],
   "source": [
    "import numpy as np\n",
    "matrix=np.arange(12).reshape(3,4)\n",
    "print (matrix)\n",
    "column_sum = 0\n",
    "column_count =0\n",
    "for row in matrix:\n",
    "    column_sum =column_sum + row[1]\n",
    "    column_count=column_sum + 1\n",
    "if column_count>0:\n",
    "   column_mean = column_sum / column_count\n",
    "else:\n",
    "   column_mean = 0\n",
    "print (\"Mean of the 2nd column:\",column_mean)"
   ]
  },
  {
   "cell_type": "code",
   "execution_count": 46,
   "id": "86dbf7ec-e314-4c15-ba47-6a5b5fafd0e4",
   "metadata": {},
   "outputs": [
    {
     "name": "stdout",
     "output_type": "stream",
     "text": [
      "[6 5 4 1 2 2]\n"
     ]
    }
   ],
   "source": [
    "import numpy as np\n",
    "vector =np.array([36,25,16,3,5,6])\n",
    "sqrt_vector = np.zeros_like(vector)\n",
    "for i in range(len(vector)):\n",
    "  sqrt_vector[i] = np.sqrt(vector[i])\n",
    "print (sqrt_vector)"
   ]
  },
  {
   "cell_type": "code",
   "execution_count": 52,
   "id": "8195f5b4-3de9-4abc-9bce-9ae4eb2cad6e",
   "metadata": {},
   "outputs": [
    {
     "name": "stdout",
     "output_type": "stream",
     "text": [
      "sqrt vector: [5 4 4 3 1 2]\n"
     ]
    }
   ],
   "source": [
    "import numpy as np\n",
    "vector = np.array([35,23,22,11,3,5])\n",
    "sqrt_vector = np.zeros_like(vector)\n",
    "for i in range (len(vector)):\n",
    "   sqrt_vector[i]=np.sqrt(vector[i])\n",
    "print (\"sqrt vector:\",sqrt_vector)"
   ]
  },
  {
   "cell_type": "code",
   "execution_count": 104,
   "id": "00ba6302-3e6e-4208-9906-f2729be8abf3",
   "metadata": {},
   "outputs": [
    {
     "name": "stdout",
     "output_type": "stream",
     "text": [
      "Output vector: [36 25 16  9  4  1]\n"
     ]
    }
   ],
   "source": [
    "import numpy as np\n",
    "def square_vector(n):\n",
    "    vector=np.arange (n,0,-1)**2\n",
    "    return vector\n",
    "\n",
    "input_num = 6\n",
    "output_vector = square_vector(input_num)\n",
    "\n",
    "print (\"Output vector:\",output_vector)"
   ]
  },
  {
   "cell_type": "code",
   "execution_count": 108,
   "id": "664824ff-7d74-4d3a-8385-57d02f824a77",
   "metadata": {},
   "outputs": [
    {
     "name": "stdout",
     "output_type": "stream",
     "text": [
      "[100  81  64  49  36  25  16   9   4   1]\n"
     ]
    }
   ],
   "source": [
    "import numpy as np\n",
    "def square_vector(n):\n",
    "    vector =np.arange(n,0,-1)**2\n",
    "    return vector\n",
    "input_num = 10\n",
    "output_vector = square_vector(input_num)\n",
    "print (output_vector)"
   ]
  }
 ],
 "metadata": {
  "kernelspec": {
   "display_name": "Python [conda env:base] *",
   "language": "python",
   "name": "conda-base-py"
  },
  "language_info": {
   "codemirror_mode": {
    "name": "ipython",
    "version": 3
   },
   "file_extension": ".py",
   "mimetype": "text/x-python",
   "name": "python",
   "nbconvert_exporter": "python",
   "pygments_lexer": "ipython3",
   "version": "3.12.7"
  }
 },
 "nbformat": 4,
 "nbformat_minor": 5
}
