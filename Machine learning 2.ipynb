{
 "cells": [
  {
   "cell_type": "code",
   "execution_count": 1,
   "id": "9726aa6a-da93-46f7-9516-838fdccc138d",
   "metadata": {},
   "outputs": [
    {
     "name": "stdout",
     "output_type": "stream",
     "text": [
      "Requirement already satisfied: numpy in d:\\anaconda\\lib\\site-packages (1.26.4)\n",
      "Note: you may need to restart the kernel to use updated packages.\n"
     ]
    }
   ],
   "source": [
    "pip install numpy\n"
   ]
  },
  {
   "cell_type": "code",
   "execution_count": 9,
   "id": "4ff0ba51-5155-44c8-bd65-6b36cadafe13",
   "metadata": {},
   "outputs": [
    {
     "name": "stdout",
     "output_type": "stream",
     "text": [
      "Python list took: 0.0 ms\n",
      "NumPy array took: 0.0 ms\n"
     ]
    }
   ],
   "source": [
    "import numpy as np\n",
    "import time\n",
    "\n",
    "SIZE = 1000\n",
    "\n",
    "# Create Python lists\n",
    "l1 = range(SIZE)\n",
    "l2 = range(SIZE)\n",
    "\n",
    "# Measure time for Python list addition\n",
    "start = time.time()\n",
    "result = [(x + y) for x, y in zip(l1, l2)]\n",
    "print(\"Python list took:\", (time.time() - start) * 1000, \"ms\")\n",
    "\n",
    "# Create NumPy arrays\n",
    "a1 = np.arange(SIZE)\n",
    "a2 = np.arange(SIZE)\n",
    "\n",
    "# Measure time for NumPy array addition\n",
    "start = time.time()\n",
    "result = a1 + a2\n",
    "print(\"NumPy array took:\", (time.time() - start) * 1000, \"ms\")\n",
    "\n",
    "\n"
   ]
  },
  {
   "cell_type": "code",
   "execution_count": 13,
   "id": "a8fb5b6f-4cb9-47a2-b4cd-cb16a9dc453b",
   "metadata": {},
   "outputs": [],
   "source": [
    "import numpy as np"
   ]
  },
  {
   "cell_type": "code",
   "execution_count": 27,
   "id": "80e0bd88-5b1c-45f9-a106-eb75c1921b29",
   "metadata": {},
   "outputs": [
    {
     "data": {
      "text/plain": [
       "array([[ 0,  1,  2,  3,  4],\n",
       "       [ 5,  6,  7,  8,  9],\n",
       "       [10, 11, 12, 13, 14],\n",
       "       [15, 16, 17, 18, 19]])"
      ]
     },
     "execution_count": 27,
     "metadata": {},
     "output_type": "execute_result"
    }
   ],
   "source": [
    "a=np.arange(20).reshape(4,5)\n",
    "a"
   ]
  },
  {
   "cell_type": "code",
   "execution_count": 31,
   "id": "4a91c2fc-edcf-46d7-a235-e0ea227f21dd",
   "metadata": {},
   "outputs": [
    {
     "name": "stdout",
     "output_type": "stream",
     "text": [
      "0\n",
      "1\n",
      "2\n",
      "3\n",
      "4\n",
      "5\n",
      "6\n",
      "7\n",
      "8\n",
      "9\n",
      "10\n",
      "11\n",
      "12\n",
      "13\n",
      "14\n",
      "15\n",
      "16\n",
      "17\n",
      "18\n",
      "19\n"
     ]
    }
   ],
   "source": [
    "for row in a:\n",
    "    for cell in row:\n",
    "          print(cell)   "
   ]
  },
  {
   "cell_type": "code",
   "execution_count": 35,
   "id": "39c0de1d-ea88-482b-b3d3-d1d06adbb7df",
   "metadata": {},
   "outputs": [
    {
     "name": "stdout",
     "output_type": "stream",
     "text": [
      "0\n",
      "1\n",
      "2\n",
      "3\n",
      "4\n",
      "5\n",
      "6\n",
      "7\n",
      "8\n",
      "9\n",
      "10\n",
      "11\n",
      "12\n",
      "13\n",
      "14\n",
      "15\n",
      "16\n",
      "17\n",
      "18\n",
      "19\n"
     ]
    }
   ],
   "source": [
    "for cell in a.flatten():\n",
    "    print (cell)"
   ]
  },
  {
   "cell_type": "code",
   "execution_count": 37,
   "id": "3634f26e-ee8e-4402-8fc0-adafa97256eb",
   "metadata": {},
   "outputs": [
    {
     "name": "stdout",
     "output_type": "stream",
     "text": [
      "[ 0  5 10 15]\n",
      "[ 1  6 11 16]\n",
      "[ 2  7 12 17]\n",
      "[ 3  8 13 18]\n",
      "[ 4  9 14 19]\n"
     ]
    }
   ],
   "source": [
    "for x in np.nditer(a,order='F', flags =['external_loop']):\n",
    "    print(x)"
   ]
  },
  {
   "cell_type": "code",
   "execution_count": 39,
   "id": "b22e4652-cc24-4ce3-93aa-8a11054473c3",
   "metadata": {},
   "outputs": [
    {
     "name": "stdout",
     "output_type": "stream",
     "text": [
      "[ 0  5 10 15]\n",
      "[ 1  6 11 16]\n",
      "[ 2  7 12 17]\n",
      "[ 3  8 13 18]\n",
      "[ 4  9 14 19]\n"
     ]
    }
   ],
   "source": [
    "for x in np.nditer (a,order ='F',flags =['external_loop']):\n",
    "    print(x)"
   ]
  },
  {
   "cell_type": "code",
   "execution_count": 2,
   "id": "bdee9cc5-4d38-414b-8dd6-14ae03980bf3",
   "metadata": {},
   "outputs": [
    {
     "name": "stdout",
     "output_type": "stream",
     "text": [
      "[1 2 3 4 5 6]\n"
     ]
    }
   ],
   "source": [
    "import numpy as np\n",
    "arr=np.array([1,2,3,4,5,6])\n",
    "print (arr)\n"
   ]
  },
  {
   "cell_type": "code",
   "execution_count": 14,
   "id": "b1b63d36-2559-423d-aad8-76f5c47b4c65",
   "metadata": {},
   "outputs": [
    {
     "name": "stdout",
     "output_type": "stream",
     "text": [
      "[[  1   2   3   4   5]\n",
      " [  2 345  56  67   2]]\n"
     ]
    }
   ],
   "source": [
    "import numpy as np \n",
    "arr=np.array ([[1,2,3,4,5],[2,345,56,67,2]])\n",
    "print (arr)\n"
   ]
  },
  {
   "cell_type": "code",
   "execution_count": 18,
   "id": "7b8ed7cd-5caf-4abe-911d-54e2ff0a9cf7",
   "metadata": {},
   "outputs": [
    {
     "name": "stdout",
     "output_type": "stream",
     "text": [
      "<class 'numpy.ndarray'>\n"
     ]
    }
   ],
   "source": [
    "print (type(arr))"
   ]
  },
  {
   "cell_type": "code",
   "execution_count": 22,
   "id": "fb3849d1-759d-4887-8fa5-22220fe64cca",
   "metadata": {},
   "outputs": [
    {
     "name": "stdout",
     "output_type": "stream",
     "text": [
      "[[0. 0. 0. 0.]\n",
      " [0. 0. 0. 0.]\n",
      " [0. 0. 0. 0.]\n",
      " [0. 0. 0. 0.]]\n"
     ]
    }
   ],
   "source": [
    "zeros=np.zeros ((4,4))\n",
    "print (zeros)"
   ]
  },
  {
   "cell_type": "code",
   "execution_count": 24,
   "id": "ef47c59e-9004-4e84-80d5-bdd275cdb668",
   "metadata": {},
   "outputs": [
    {
     "name": "stdout",
     "output_type": "stream",
     "text": [
      "[[1. 1. 1. 1.]\n",
      " [1. 1. 1. 1.]]\n"
     ]
    }
   ],
   "source": [
    "ones = np.ones((2,4))\n",
    "print (ones)"
   ]
  },
  {
   "cell_type": "code",
   "execution_count": 34,
   "id": "9d8eb2ec-c28b-4342-9bfa-8802fa3f7a19",
   "metadata": {},
   "outputs": [
    {
     "name": "stdout",
     "output_type": "stream",
     "text": [
      "[ 0  5 10 15 20 25 30 35 40 45 50 55 60 65 70 75 80 85 90 95]\n"
     ]
    }
   ],
   "source": [
    "arr= np.arange(0,100,5)\n",
    "print (arr)"
   ]
  },
  {
   "cell_type": "code",
   "execution_count": null,
   "id": "e607459e-a57e-4c13-8487-ea1005b889dc",
   "metadata": {},
   "outputs": [],
   "source": []
  }
 ],
 "metadata": {
  "kernelspec": {
   "display_name": "Python [conda env:base] *",
   "language": "python",
   "name": "conda-base-py"
  },
  "language_info": {
   "codemirror_mode": {
    "name": "ipython",
    "version": 3
   },
   "file_extension": ".py",
   "mimetype": "text/x-python",
   "name": "python",
   "nbconvert_exporter": "python",
   "pygments_lexer": "ipython3",
   "version": "3.12.7"
  }
 },
 "nbformat": 4,
 "nbformat_minor": 5
}
